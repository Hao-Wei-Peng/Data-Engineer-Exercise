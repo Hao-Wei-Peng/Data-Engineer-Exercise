{
 "cells": [
  {
   "cell_type": "markdown",
   "id": "8fc7650b-f4bb-4d9f-b16f-25ad0651f0b8",
   "metadata": {},
   "source": [
    "## Date Difference Challenge"
   ]
  },
  {
   "cell_type": "code",
   "execution_count": 1,
   "id": "3aa813be-0127-4305-b4c9-5d1ef4ef8889",
   "metadata": {},
   "outputs": [],
   "source": [
    "# in here, we use a check_date function to check whether input dates are following DD/MM/YYYY format\n",
    "# we suppose some situations as below\n",
    "def check_date(date):\n",
    "    \n",
    "    # remove space from head and tail\n",
    "    date = date.strip()\n",
    "    \n",
    "    LenQ = len(date)\n",
    "    \n",
    "    # if length of DD/MM/YYYY is not equal to 10, or index 2 or index 5 not equal to character /\n",
    "    # if not follow format, we will return False\n",
    "    if LenQ != 10 or date[2] != \"/\" or date[5] != \"/\":\n",
    "        return False\n",
    "    \n",
    "    # use split to split day, month, year individually\n",
    "    day, month, year = date.split(\"/\")\n",
    "    \n",
    "    # check whether day, month, year are all digits (DD/MM/YYYY)\n",
    "    # if not, we will return False\n",
    "    if not (day.isdigit() and month.isdigit() and year.isdigit()):\n",
    "        return False\n",
    "    \n",
    "    day, month, year = int(day), int(month), int(year)\n",
    "    \n",
    "    table = get_month_day_table(year)\n",
    "    \n",
    "    \n",
    "    # in addition, we also need to check whether day, month, year are in reasonable regions\n",
    "    # year (not euqal to 0)\n",
    "    # month (need between 1 ~ 12)\n",
    "    # day (need to make decision by month, however, in February, in our system, we will consider leap year or not)\n",
    "    # if not follow format as above, we will return False\n",
    "    if year == 0 or not (1 <= month <= 12) or not (1 <= day <= table[month]):\n",
    "        return False\n",
    "\n",
    "    return True\n",
    "\n",
    "    \n",
    "def get_month_day_table(year):\n",
    "    # check current year whether need to add one more day in February (check leap year)\n",
    "    table = [False, 31, 28 + check_leap(year), 31, 30, 31, 30, 31, 31, 30, 31, 30, 31]\n",
    "    \n",
    "    return table"
   ]
  },
  {
   "cell_type": "code",
   "execution_count": 2,
   "id": "7a62b35c-88e4-4903-a8f0-fb33df30f2ee",
   "metadata": {},
   "outputs": [],
   "source": [
    "def check_leap(year):  \n",
    "    # check whether current year is leap year or not  \n",
    "    if year % 400 == 0 or year % 100 != 0 and year % 4 == 0:   \n",
    "        return True\n",
    "    else:  \n",
    "        return False "
   ]
  },
  {
   "cell_type": "code",
   "execution_count": 4,
   "id": "91ad2170-1a8d-45cf-ab10-02023d6e1894",
   "metadata": {},
   "outputs": [],
   "source": [
    "def count_day_between_two_dates(first_date, second_date):\n",
    "    \n",
    "    # remove space from head and tail \n",
    "    # use split to split day, month, year individually\n",
    "    f_day, f_month, f_year = first_date.strip().split(\"/\")\n",
    "    s_day, s_month, s_year = second_date.strip().split(\"/\")\n",
    "    \n",
    "    # in our system, we suppose that first date is smaller than second date\n",
    "    # if user type first date is larger than second date, we will change position\n",
    "    # and do calculation again, it will not stop system operation\n",
    "    if f_year + f_month + f_day > s_year + s_month + s_day:\n",
    "        return count_day_between_two_dates(second_date, first_date)\n",
    "    \n",
    "    # convert string into integer type\n",
    "    f_day, f_month, f_year = int(f_day), int(f_month), int(f_year)\n",
    "    s_day, s_month, s_year = int(s_day), int(s_month), int(s_year)\n",
    "    \n",
    "    \n",
    "    # in here, we recevie each day (month) of current year, and also check whether\n",
    "    # it is leap year or not\n",
    "    f_tb, fy = get_month_day_table(f_year), 365 + check_leap(f_year)\n",
    "    s_tb, sy = get_month_day_table(s_year), 365 + check_leap(s_year)\n",
    "    \n",
    "    # in here, we will calculate total days (how many months before current month)\n",
    "    # plus day of current month (begin of year to current date)\n",
    "    cnt_f_day = sum(f_tb[1 : f_month]) + f_day \n",
    "    cnt_s_day = sum(s_tb[1 : s_month]) + s_day \n",
    "    \n",
    "    # in first situation, if both dates with same year\n",
    "    # we just need to calculate second date minus first\n",
    "    # date, however, we do not need to consider begin and \n",
    "    # end date, therefore, we need minus 1 additionally\n",
    "    if f_year == s_year:\n",
    "        return max(cnt_s_day - cnt_f_day - 1, 0)\n",
    "    \n",
    "    # in second situation, if both dates with different year\n",
    "    # we need to calculate how many days remain from the first date\n",
    "    # next, we need to consider how many years between both dates\n",
    "    # in addition, each year need to check whether it is leap year \n",
    "    # or not, at the last place, we need to add total days from begin\n",
    "    # to current date of second date\n",
    "    else:\n",
    "        # remain days from the first date\n",
    "        diff = fy - cnt_f_day - 1\n",
    "        \n",
    "        total_day = 0\n",
    "        \n",
    "        # how many years between both dates\n",
    "        for cur_year in range(f_year + 1, s_year):\n",
    "            total_day = total_day + 365 + check_leap(cur_year)\n",
    "        \n",
    "        # add total days of second date\n",
    "        return max(diff + total_day + cnt_s_day, 0)"
   ]
  },
  {
   "cell_type": "code",
   "execution_count": 13,
   "id": "3a98b686-f1d9-4cd0-92c9-a0a67b2a7dd9",
   "metadata": {},
   "outputs": [
    {
     "name": "stdin",
     "output_type": "stream",
     "text": [
      "Please Enter first date:  03/01/1989\n",
      "Please Enter second date:  03/08/1983\n"
     ]
    }
   ],
   "source": [
    "# we let user to type to date as below, however, we will use check function to check\n",
    "# whether the dates are following date format, if not, we will let user to type dates again,\n",
    "# until both of dates are following date format.\n",
    "\n",
    "first_date = input(\"Please Enter first date: \")\n",
    "second_date = input(\"Please Enter second date: \")\n",
    "\n",
    "while not check_date(first_date):\n",
    "    first_date = input(\"Please Enter first date: \")\n",
    "    \n",
    "while not check_date(second_date):\n",
    "    second_date = input(\"Please Enter second date: \")"
   ]
  },
  {
   "cell_type": "code",
   "execution_count": 14,
   "id": "0dfcec4a-9e4e-4f4e-9d39-7d2396c262e0",
   "metadata": {},
   "outputs": [
    {
     "data": {
      "text/plain": [
       "1979"
      ]
     },
     "execution_count": 14,
     "metadata": {},
     "output_type": "execute_result"
    }
   ],
   "source": [
    "count_day_between_two_dates(first_date, second_date)"
   ]
  },
  {
   "cell_type": "code",
   "execution_count": null,
   "id": "d236d597-8d23-411c-97f6-7141d25f674b",
   "metadata": {},
   "outputs": [],
   "source": []
  }
 ],
 "metadata": {
  "kernelspec": {
   "display_name": "Python 3 (ipykernel)",
   "language": "python",
   "name": "python3"
  },
  "language_info": {
   "codemirror_mode": {
    "name": "ipython",
    "version": 3
   },
   "file_extension": ".py",
   "mimetype": "text/x-python",
   "name": "python",
   "nbconvert_exporter": "python",
   "pygments_lexer": "ipython3",
   "version": "3.9.12"
  }
 },
 "nbformat": 4,
 "nbformat_minor": 5
}
